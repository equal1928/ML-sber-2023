{
 "cells": [
  {
   "cell_type": "code",
   "execution_count": 17,
   "metadata": {
    "id": "gWpSY05WOCdj"
   },
   "outputs": [],
   "source": [
    "import pandas as pd\n",
    "import numpy as np\n",
    "\n",
    "import matplotlib.pyplot as plt\n",
    "import seaborn as sns\n",
    "sns.set(color_codes=True)\n",
    "sns.set(font_scale=1)\n",
    "%matplotlib inline\n",
    "%config InlineBackend.figure_format = 'svg'\n",
    "\n",
    "from sklearn.model_selection import cross_val_predict, cross_val_score\n",
    "from sklearn.ensemble import RandomForestClassifier\n",
    "\n",
    "from sklearn.metrics import classification_report, make_scorer\n",
    "from sklearn.model_selection import RandomizedSearchCV\n",
    "from sklearn.model_selection import GridSearchCV\n",
    "import scipy.stats\n",
    "# import eli5"
   ]
  },
  {
   "cell_type": "code",
   "execution_count": 18,
   "metadata": {
    "id": "DL8KKbHTPXB1"
   },
   "outputs": [],
   "source": [
    "from itertools import chain\n",
    "\n",
    "import nltk\n",
    "import sklearn\n",
    "import scipy.stats\n",
    "\n",
    "import sklearn_crfsuite\n",
    "from sklearn_crfsuite import scorers,CRF\n",
    "from sklearn_crfsuite.metrics import flat_classification_report, flat_f1_score\n",
    "from sklearn_crfsuite import metrics\n",
    "from sklearn.metrics import classification_report\n",
    "from sklearn.preprocessing import LabelEncoder"
   ]
  },
  {
   "cell_type": "code",
   "execution_count": 19,
   "metadata": {
    "id": "bPEceFHtopyZ"
   },
   "outputs": [],
   "source": [
    "data = pd.read_pickle('data_short.pickle')"
   ]
  },
  {
   "cell_type": "code",
   "execution_count": 20,
   "metadata": {},
   "outputs": [],
   "source": [
    "text, tags = list(data['text']), list(data['tag'])"
   ]
  },
  {
   "cell_type": "code",
   "execution_count": 21,
   "metadata": {},
   "outputs": [
    {
     "data": {
      "text/plain": [
       "12334"
      ]
     },
     "execution_count": 21,
     "metadata": {},
     "output_type": "execute_result"
    }
   ],
   "source": [
    "text_new, tags_new = [], [] # сплит по точкам с запятой и дроп О\n",
    "for words, tag_list in zip(text, tags):\n",
    "    last_separator_idx = 0\n",
    "    for i in range(len(words)):\n",
    "        if words[i] == ';' and any(['i' in tag for tag in tag_list[last_separator_idx: i]]):\n",
    "            text_new.append(words[last_separator_idx: i])\n",
    "            tags_new.append(tag_list[last_separator_idx: i])\n",
    "            last_separator_idx = i\n",
    "        if i + 1 == len(words):\n",
    "            text_new.append(words[last_separator_idx: i])\n",
    "            tags_new.append(tag_list[last_separator_idx: i]) \n",
    "len(text_new)"
   ]
  },
  {
   "cell_type": "code",
   "execution_count": 22,
   "metadata": {
    "id": "CWN8t9Ki7OJJ"
   },
   "outputs": [],
   "source": [
    "# Feature set\n",
    "def word2features(sent,i):\n",
    "    word = text_new[sent][i]\n",
    "\n",
    "    features = {\n",
    "        'bias': 1.0,\n",
    "        'word.lower()': word.lower(),\n",
    "        'word[-3:]': word[-3:],\n",
    "        'word[-2:]': word[-2:],\n",
    "\n",
    "        'word.istitle()': word.istitle(),\n",
    "        'word.isdigit()': word.isdigit(),\n",
    "\n",
    "    }\n",
    "    if i > 0:\n",
    "        word1 = text_new[sent][i-1]\n",
    "\n",
    "        features.update({\n",
    "            '-1:word.lower()': word1.lower(),\n",
    "            '-1:word.istitle()': word1.istitle(),\n",
    "        })\n",
    "    else:\n",
    "        features['BOS'] = True\n",
    "\n",
    "    if i < len(text_new[sent])-1:\n",
    "        word1 = text_new[sent][i+1]\n",
    "\n",
    "        features.update({\n",
    "            '+1:word.lower()': word1.lower(),\n",
    "            '+1:word.istitle()': word1.istitle(),\n",
    "        })\n",
    "    else:\n",
    "        features['EOS'] = True\n",
    "\n",
    "    return features"
   ]
  },
  {
   "cell_type": "code",
   "execution_count": 23,
   "metadata": {
    "id": "HeJ7jWQfPCwu"
   },
   "outputs": [],
   "source": [
    "def sent2features(sent):\n",
    "    return [word2features(sent, i) for i in range(len(text_new[sent]))]\n",
    "\n",
    "def sent2labels(sent):\n",
    "    return [label for label in tags_new[sent]]"
   ]
  },
  {
   "cell_type": "code",
   "execution_count": 24,
   "metadata": {
    "id": "lrNyIJyZPjv8"
   },
   "outputs": [],
   "source": [
    "#Creating the train and test set\n",
    "X = [sent2features(s) for s in range(len(text_new))]\n",
    "y = [sent2labels(s) for s in range(len(tags_new))]"
   ]
  },
  {
   "cell_type": "code",
   "execution_count": null,
   "metadata": {},
   "outputs": [],
   "source": []
  },
  {
   "cell_type": "code",
   "execution_count": 25,
   "metadata": {
    "colab": {
     "base_uri": "https://localhost:8080/"
    },
    "id": "IXGpam3Xq-lN",
    "outputId": "fbe458bd-90da-440b-d13f-e74613a682ef"
   },
   "outputs": [
    {
     "data": {
      "text/plain": [
       "12334"
      ]
     },
     "execution_count": 25,
     "metadata": {},
     "output_type": "execute_result"
    }
   ],
   "source": [
    "len(X)"
   ]
  },
  {
   "cell_type": "code",
   "execution_count": 26,
   "metadata": {
    "id": "OScowx7MoAZA"
   },
   "outputs": [],
   "source": [
    "crf = CRF(algorithm='lbfgs',\n",
    "          c1=0.1,\n",
    "          c2=0.1,\n",
    "          max_iterations=100,\n",
    "          all_possible_transitions=False)"
   ]
  },
  {
   "cell_type": "code",
   "execution_count": 27,
   "metadata": {
    "colab": {
     "base_uri": "https://localhost:8080/",
     "height": 432
    },
    "id": "t0bDtyQhoAbK",
    "outputId": "74580976-cb48-447b-f65b-adf11f3119b9"
   },
   "outputs": [
    {
     "data": {
      "text/plain": [
       "(12334, 12334)"
      ]
     },
     "execution_count": 27,
     "metadata": {},
     "output_type": "execute_result"
    }
   ],
   "source": [
    "X_filtered, y_filtered = [], [] \n",
    "for x_, y_ in zip(X, y):\n",
    "    if len(x_) == len(y_):\n",
    "        X_filtered.append(x_)\n",
    "        y_filtered.append(y_)\n",
    "len(X_filtered), len(y_filtered)"
   ]
  },
  {
   "cell_type": "code",
   "execution_count": 28,
   "metadata": {},
   "outputs": [
    {
     "name": "stdout",
     "output_type": "stream",
     "text": [
      "CPU times: total: 42.1 s\n",
      "Wall time: 43 s\n"
     ]
    }
   ],
   "source": [
    "%%time\n",
    "try:\n",
    "    crf.fit(X_filtered[:5000], y_filtered[:5000])\n",
    "except AttributeError:\n",
    "    pass"
   ]
  },
  {
   "cell_type": "code",
   "execution_count": 29,
   "metadata": {},
   "outputs": [],
   "source": [
    "def get_score(y_true, y_pred, y_all):\n",
    "    joined_true = []\n",
    "    joined_pred = []\n",
    "    for sent_true, sent_pred in zip(y_true, y_pred):\n",
    "        joined_true.extend(sent_true)\n",
    "        joined_pred.extend(sent_pred)\n",
    "    \n",
    "    true_transformed, pred_transformed = label_encode(joined_true, joined_pred, y_all)\n",
    "    print(classification_report(true_transformed, pred_transformed, target_names=dict_tegs))"
   ]
  },
  {
   "cell_type": "code",
   "execution_count": 30,
   "metadata": {},
   "outputs": [],
   "source": [
    "def label_encode(y_true, y_pred, y_all):\n",
    "    y_all_flat = []\n",
    "    for sent in y_all:\n",
    "        y_all_flat.extend(sent)\n",
    "    encoder = LabelEncoder().fit(y_all_flat)\n",
    "    return encoder.transform(y_true), encoder.transform(y_pred)"
   ]
  },
  {
   "cell_type": "code",
   "execution_count": 31,
   "metadata": {},
   "outputs": [],
   "source": [
    "import pickle "
   ]
  },
  {
   "cell_type": "code",
   "execution_count": 32,
   "metadata": {},
   "outputs": [],
   "source": [
    "with open('dict_tegs_short.pkl', 'rb') as dict_tegs:\n",
    "    dict_tegs = pickle.load(dict_tegs)"
   ]
  },
  {
   "cell_type": "code",
   "execution_count": 33,
   "metadata": {},
   "outputs": [
    {
     "data": {
      "text/plain": [
       "{'o': 1,\n",
       " 'i-e-treb': 2,\n",
       " 'i-e-v': 3,\n",
       " 'i-e-org': 4,\n",
       " 'i-e-prod': 5,\n",
       " 'i-e-reg': 6,\n",
       " 'i-e-obj': 7,\n",
       " 'i-e-okved': 8,\n",
       " 'i-e-block': 9}"
      ]
     },
     "execution_count": 33,
     "metadata": {},
     "output_type": "execute_result"
    }
   ],
   "source": [
    "dict_tegs"
   ]
  },
  {
   "cell_type": "code",
   "execution_count": 34,
   "metadata": {},
   "outputs": [
    {
     "name": "stdout",
     "output_type": "stream",
     "text": [
      "              precision    recall  f1-score   support\n",
      "\n",
      "           o       0.76      0.83      0.80    254582\n",
      "    i-e-treb       0.00      0.00      0.00       794\n",
      "       i-e-v       0.01      0.00      0.00       977\n",
      "     i-e-org       0.43      0.07      0.12      1247\n",
      "    i-e-prod       0.41      0.22      0.28     21679\n",
      "     i-e-reg       0.39      0.11      0.17      4882\n",
      "     i-e-obj       0.44      0.12      0.19      3513\n",
      "   i-e-okved       0.59      0.68      0.63     83143\n",
      "   i-e-block       0.46      0.25      0.32     39320\n",
      "\n",
      "    accuracy                           0.69    410137\n",
      "   macro avg       0.39      0.25      0.28    410137\n",
      "weighted avg       0.67      0.69      0.67    410137\n",
      "\n"
     ]
    }
   ],
   "source": [
    "get_score(y_filtered[5000:], crf.predict(X_filtered[5000:]), y_filtered)"
   ]
  },
  {
   "cell_type": "code",
   "execution_count": 33,
   "metadata": {},
   "outputs": [
    {
     "name": "stdout",
     "output_type": "stream",
     "text": [
      "              precision    recall  f1-score   support\n",
      "\n",
      "           0       0.00      0.00      0.00       492\n",
      "           1       0.00      0.00      0.00       270\n",
      "           2       0.05      0.27      0.08        11\n",
      "           3       0.00      0.00      0.00         5\n",
      "           5       0.25      0.15      0.19        13\n",
      "           6       0.00      0.00      0.00       538\n",
      "           8       0.30      0.08      0.12       283\n",
      "           9       0.64      0.19      0.30       834\n",
      "          10       0.52      0.11      0.18       589\n",
      "          11       0.33      0.01      0.02       472\n",
      "          12       0.00      0.00      0.00        49\n",
      "          13       0.00      0.00      0.00      1394\n",
      "          14       0.58      0.21      0.31      6340\n",
      "          15       0.93      0.23      0.36       363\n",
      "          16       0.32      0.18      0.23       581\n",
      "          17       0.02      0.01      0.01       677\n",
      "          18       0.00      0.00      0.00       515\n",
      "          19       0.35      0.31      0.33       500\n",
      "          21       0.00      0.00      0.00      1306\n",
      "          22       0.00      0.00      0.00       845\n",
      "          23       0.00      0.00      0.00        19\n",
      "          24       0.04      0.03      0.04      1251\n",
      "          25       0.00      0.00      0.00      4156\n",
      "          26       0.78      0.72      0.75     19485\n",
      "          27       0.00      0.00      0.00       162\n",
      "          28       0.00      0.00      0.00      1341\n",
      "          29       0.17      0.02      0.03      3298\n",
      "          30       0.00      0.00      0.00         7\n",
      "          31       0.00      0.00      0.00       240\n",
      "          32       0.00      0.00      0.00        11\n",
      "          34       0.00      0.00      0.00         5\n",
      "          35       0.77      0.20      0.32       847\n",
      "          36       0.00      0.00      0.00        54\n",
      "          37       0.10      0.46      0.16        26\n",
      "          39       0.39      0.10      0.15      7396\n",
      "          40       0.07      0.07      0.07      1488\n",
      "          41       0.06      0.11      0.08        19\n",
      "          42       0.00      0.00      0.00        50\n",
      "          43       0.44      0.31      0.36        26\n",
      "          44       0.00      0.00      0.00        65\n",
      "          45       0.21      0.02      0.04       588\n",
      "          46       0.00      0.00      0.00       542\n",
      "          47       0.00      0.00      0.00       516\n",
      "          49       0.70      0.19      0.30       277\n",
      "          50       0.18      0.40      0.25        10\n",
      "          51       0.01      0.05      0.02       511\n",
      "          53       0.50      0.36      0.42       794\n",
      "          54       0.00      0.00      0.00       192\n",
      "          55       0.00      0.00      0.00        10\n",
      "          56       0.00      0.00      0.00       190\n",
      "          57       0.00      0.00      0.00        23\n",
      "          59       0.00      0.00      0.00        75\n",
      "          60       0.00      0.00      0.00         4\n",
      "          62       0.50      1.00      0.67         4\n",
      "          63       0.00      0.00      0.00         8\n",
      "          64       0.00      0.00      0.00         0\n",
      "          65       0.45      0.62      0.52       195\n",
      "          66       0.31      0.12      0.17      1292\n",
      "          67       1.00      0.02      0.04       438\n",
      "          68       0.00      0.00      0.00       124\n",
      "          69       0.49      0.19      0.27       285\n",
      "          71       0.00      0.00      0.00        18\n",
      "          72       0.12      0.04      0.06       187\n",
      "          75       0.00      0.00      0.00        20\n",
      "          76       0.73      0.94      0.82    106261\n",
      "\n",
      "    accuracy                           0.70    168587\n",
      "   macro avg       0.19      0.12      0.12    168587\n",
      "weighted avg       0.62      0.70      0.64    168587\n",
      "\n"
     ]
    },
    {
     "name": "stderr",
     "output_type": "stream",
     "text": [
      "C:\\Users\\Ян\\AppData\\Local\\Programs\\Python\\Python310\\lib\\site-packages\\sklearn\\metrics\\_classification.py:1344: UndefinedMetricWarning: Precision and F-score are ill-defined and being set to 0.0 in labels with no predicted samples. Use `zero_division` parameter to control this behavior.\n",
      "  _warn_prf(average, modifier, msg_start, len(result))\n",
      "C:\\Users\\Ян\\AppData\\Local\\Programs\\Python\\Python310\\lib\\site-packages\\sklearn\\metrics\\_classification.py:1344: UndefinedMetricWarning: Recall and F-score are ill-defined and being set to 0.0 in labels with no true samples. Use `zero_division` parameter to control this behavior.\n",
      "  _warn_prf(average, modifier, msg_start, len(result))\n",
      "C:\\Users\\Ян\\AppData\\Local\\Programs\\Python\\Python310\\lib\\site-packages\\sklearn\\metrics\\_classification.py:1344: UndefinedMetricWarning: Precision and F-score are ill-defined and being set to 0.0 in labels with no predicted samples. Use `zero_division` parameter to control this behavior.\n",
      "  _warn_prf(average, modifier, msg_start, len(result))\n",
      "C:\\Users\\Ян\\AppData\\Local\\Programs\\Python\\Python310\\lib\\site-packages\\sklearn\\metrics\\_classification.py:1344: UndefinedMetricWarning: Recall and F-score are ill-defined and being set to 0.0 in labels with no true samples. Use `zero_division` parameter to control this behavior.\n",
      "  _warn_prf(average, modifier, msg_start, len(result))\n",
      "C:\\Users\\Ян\\AppData\\Local\\Programs\\Python\\Python310\\lib\\site-packages\\sklearn\\metrics\\_classification.py:1344: UndefinedMetricWarning: Precision and F-score are ill-defined and being set to 0.0 in labels with no predicted samples. Use `zero_division` parameter to control this behavior.\n",
      "  _warn_prf(average, modifier, msg_start, len(result))\n",
      "C:\\Users\\Ян\\AppData\\Local\\Programs\\Python\\Python310\\lib\\site-packages\\sklearn\\metrics\\_classification.py:1344: UndefinedMetricWarning: Recall and F-score are ill-defined and being set to 0.0 in labels with no true samples. Use `zero_division` parameter to control this behavior.\n",
      "  _warn_prf(average, modifier, msg_start, len(result))\n"
     ]
    }
   ],
   "source": [
    "get_score(y_filtered[5000:], crf.predict(X_filtered[5000:]), y_filtered)"
   ]
  },
  {
   "cell_type": "code",
   "execution_count": null,
   "metadata": {},
   "outputs": [],
   "source": []
  }
 ],
 "metadata": {
  "colab": {
   "provenance": []
  },
  "kernelspec": {
   "display_name": "Python 3 (ipykernel)",
   "language": "python",
   "name": "python3"
  },
  "language_info": {
   "codemirror_mode": {
    "name": "ipython",
    "version": 3
   },
   "file_extension": ".py",
   "mimetype": "text/x-python",
   "name": "python",
   "nbconvert_exporter": "python",
   "pygments_lexer": "ipython3",
   "version": "3.10.4"
  }
 },
 "nbformat": 4,
 "nbformat_minor": 1
}
